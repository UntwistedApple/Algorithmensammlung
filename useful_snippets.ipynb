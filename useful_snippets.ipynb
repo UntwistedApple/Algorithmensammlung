{
 "cells": [
  {
   "metadata": {},
   "cell_type": "markdown",
   "source": "Get input from test file as list of lines",
   "id": "aa02a061dceba12d"
  },
  {
   "metadata": {
    "ExecuteTime": {
     "end_time": "2024-04-18T17:44:14.688533Z",
     "start_time": "2024-04-18T17:44:14.685303Z"
    }
   },
   "cell_type": "code",
   "source": [
    "with open('test_input.txt', 'r') as f:\n",
    "    map = f.read().splitlines()\n",
    "    print(map)"
   ],
   "id": "initial_id",
   "outputs": [
    {
     "name": "stdout",
     "output_type": "stream",
     "text": [
      "['String,ID', 'This is a list of strings,1', 'With an ID,2', 'For each String.,3', 'Yay!,4']\n"
     ]
    }
   ],
   "execution_count": 25
  },
  {
   "metadata": {},
   "cell_type": "markdown",
   "source": [
    "Inline loops:\n",
    "\n",
    "Aus\n",
    "```python\n",
    "print(map.__class__.__name__)\n",
    "res = []\n",
    "for element in list:\n",
    "    res.append(operation)\n",
    "```\n",
    "wird\n",
    "```python\n",
    "res = (operation for element in list)\n",
    "```"
   ],
   "id": "cbfafe945fa55db4"
  },
  {
   "metadata": {},
   "cell_type": "markdown",
   "source": "Wanna get a 2D list from map?",
   "id": "bda2687c113f808e"
  },
  {
   "metadata": {
    "ExecuteTime": {
     "end_time": "2024-04-18T17:40:35.691290Z",
     "start_time": "2024-04-18T17:40:35.686155Z"
    }
   },
   "cell_type": "code",
   "source": "list(x.split(',') for x in map)",
   "id": "39566f550b633ce6",
   "outputs": [
    {
     "data": {
      "text/plain": [
       "[['String', 'ID'],\n",
       " ['This is a list of strings', '1'],\n",
       " ['With an ID', '2'],\n",
       " ['For each String.', '3'],\n",
       " ['Yay!', '4']]"
      ]
     },
     "execution_count": 24,
     "metadata": {},
     "output_type": "execute_result"
    }
   ],
   "execution_count": 24
  },
  {
   "metadata": {},
   "cell_type": "markdown",
   "source": "Dijkstra implementation (from ChatGPT, don't judge)",
   "id": "f83a107d36eeb37d"
  },
  {
   "metadata": {
    "ExecuteTime": {
     "end_time": "2024-04-18T19:17:32.285188Z",
     "start_time": "2024-04-18T19:17:32.280211Z"
    }
   },
   "cell_type": "code",
   "source": [
    "import heapq\n",
    "\n",
    "def dijkstra(graph, start):\n",
    "    # Initialize distances with infinity for all nodes\n",
    "    distances = {node: float('inf') for node in graph}\n",
    "    # Distance from start node to itself is 0\n",
    "    distances[start] = 0\n",
    "    # Priority queue to keep track of nodes to visit next\n",
    "    pq = [(0, start)]\n",
    "    \n",
    "    while pq:\n",
    "        # Pop the node with the smallest distance from the priority queue\n",
    "        current_distance, current_node = heapq.heappop(pq)\n",
    "        \n",
    "        # If the current distance to this node is already larger than known distance, skip\n",
    "        if current_distance > distances[current_node]:\n",
    "            continue\n",
    "        \n",
    "        # Check all neighbors of the current node\n",
    "        for neighbor, weight in graph[current_node].items():\n",
    "            distance = current_distance + weight\n",
    "            # If the distance to the neighbor through the current node is shorter\n",
    "            if distance < distances[neighbor]:\n",
    "                distances[neighbor] = distance\n",
    "                # Add neighbor to priority queue with the new distance\n",
    "                heapq.heappush(pq, (distance, neighbor))\n",
    "    \n",
    "    return distances"
   ],
   "id": "40a5742d3ba4b9cb",
   "outputs": [],
   "execution_count": 26
  },
  {
   "metadata": {
    "ExecuteTime": {
     "end_time": "2024-04-18T19:17:36.531264Z",
     "start_time": "2024-04-18T19:17:36.526551Z"
    }
   },
   "cell_type": "code",
   "source": [
    "# Example graph representation (adjacency list)\n",
    "graph = {\n",
    "    'A': {'B': 1, 'C': 4},\n",
    "    'B': {'A': 1, 'C': 2, 'D': 5},\n",
    "    'C': {'A': 4, 'B': 2, 'D': 1},\n",
    "    'D': {'B': 5, 'C': 1}\n",
    "}\n",
    "\n",
    "start_node = 'A'\n",
    "distances = dijkstra(graph, start_node)\n",
    "print(\"Shortest distances from node\", start_node + \":\")\n",
    "for node, distance in distances.items():\n",
    "    print(\"To\", node + \":\", distance)"
   ],
   "id": "8abbc525e4f027b6",
   "outputs": [
    {
     "name": "stdout",
     "output_type": "stream",
     "text": [
      "Shortest distances from node A:\n",
      "To A: 0\n",
      "To B: 1\n",
      "To C: 3\n",
      "To D: 4\n"
     ]
    }
   ],
   "execution_count": 27
  }
 ],
 "metadata": {
  "kernelspec": {
   "display_name": "Python 3",
   "language": "python",
   "name": "python3"
  },
  "language_info": {
   "codemirror_mode": {
    "name": "ipython",
    "version": 2
   },
   "file_extension": ".py",
   "mimetype": "text/x-python",
   "name": "python",
   "nbconvert_exporter": "python",
   "pygments_lexer": "ipython2",
   "version": "2.7.6"
  }
 },
 "nbformat": 4,
 "nbformat_minor": 5
}
